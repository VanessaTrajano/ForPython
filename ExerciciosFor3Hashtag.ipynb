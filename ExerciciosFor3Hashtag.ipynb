{
  "cells": [
    {
      "cell_type": "markdown",
      "metadata": {
        "id": "view-in-github",
        "colab_type": "text"
      },
      "source": [
        "<a href=\"https://colab.research.google.com/github/VanessaTrajano/ForPython/blob/main/ExerciciosFor3Hashtag.ipynb\" target=\"_parent\"><img src=\"https://colab.research.google.com/assets/colab-badge.svg\" alt=\"Open In Colab\"/></a>"
      ]
    },
    {
      "cell_type": "markdown",
      "id": "2b04bbea",
      "metadata": {
        "id": "2b04bbea"
      },
      "source": [
        "# Listas\n",
        "\n",
        "<span style=\"color: red;\"><b>Todos os exercícios são feitos partindo-se do pressuposto de que todas as entradas são dadas de forma correta. Casos limite não mencionados no enunciado não são abordados porque não fazem parte do exercício.</b></span>"
      ]
    },
    {
      "cell_type": "markdown",
      "id": "dcb81b29",
      "metadata": {
        "id": "dcb81b29"
      },
      "source": [
        "#### 1. Faça um Programa que leia as vendas dos vendedores, mostre a venda de cada vendedor com o seu nome e a média de vendas."
      ]
    },
    {
      "cell_type": "code",
      "execution_count": null,
      "id": "09c0d2b3",
      "metadata": {
        "id": "09c0d2b3",
        "colab": {
          "base_uri": "https://localhost:8080/"
        },
        "outputId": "cb737d6e-7b22-408f-9365-f4ed7b8c7f40"
      },
      "outputs": [
        {
          "output_type": "stream",
          "name": "stdout",
          "text": [
            "O vendedor Fulano vendeu 1000 reais em produtos.\n",
            "O vendedor Beltrano vendeu 1500 reais em produtos.\n",
            "O vendedor Ciclano vendeu 1200 reais em produtos.\n",
            "O vendedor Lira vendeu 1300 reais em produtos.\n",
            "A média de vendas foi 1250.0\n"
          ]
        }
      ],
      "source": [
        "vendas = [1000, 1500, 1200, 1300]\n",
        "vendedores = [\"Fulano\", \"Beltrano\", \"Ciclano\", \"Lira\"]\n",
        "\n",
        "media = 0\n",
        "\n",
        "for i, item in enumerate(vendas):\n",
        "  print(f\"O vendedor {vendedores[i]} vendeu {item} reais em produtos.\")\n",
        "  media += item\n",
        "\n",
        "print(f\"A média de vendas foi {media/len(vendas)}\")"
      ]
    },
    {
      "cell_type": "markdown",
      "id": "cbda91b3",
      "metadata": {
        "id": "cbda91b3"
      },
      "source": [
        "#### 2. Faça um Programa que crie uma lista com as médias de cada aluno, imprima as médias de cada aluno e a quantidade de alunos com média maior que 7."
      ]
    },
    {
      "cell_type": "code",
      "execution_count": null,
      "id": "c93dd233",
      "metadata": {
        "id": "c93dd233",
        "colab": {
          "base_uri": "https://localhost:8080/"
        },
        "outputId": "89c007cf-50ed-4d71-8f53-ea5cc09e75cf"
      },
      "outputs": [
        {
          "output_type": "stream",
          "name": "stdout",
          "text": [
            "O aluno José teve a média de 8.75 pontos\n",
            "O aluno Joana teve a média de 6.5 pontos\n",
            "O aluno Maria teve a média de 10.0 pontos\n",
            "O aluno Carla teve a média de 6.75 pontos\n",
            "O aluno Mauricio teve a média de 6.25 pontos\n",
            "O aluno Andre teve a média de 7.25 pontos\n",
            "O aluno Tiago teve a média de 7.5 pontos\n",
            "O aluno Enzo teve a média de 6.5 pontos\n",
            "O aluno Amanda teve a média de 7.5 pontos\n",
            "O aluno Alessandra teve a média de 4.25 pontos\n",
            "5 alunos tiveram a nota maior que 7 pontos.\n"
          ]
        }
      ],
      "source": [
        "alunos = [\"José\", \"Joana\", \"Maria\", \"Carla\", \"Mauricio\", \"Andre\", \"Tiago\", \"Enzo\", \"Amanda\", \"Alessandra\"]\n",
        "notas = [\n",
        "    [10, 9, 8, 8],\n",
        "    [9, 7, 6, 4],\n",
        "    [10, 10, 10, 10],\n",
        "    [5, 3, 10, 9],\n",
        "    [7, 6, 6, 6],\n",
        "    [7, 7, 8, 7],\n",
        "    [7, 7, 7, 9],\n",
        "    [8, 5, 6, 7],\n",
        "    [10, 9, 7, 4],\n",
        "    [10, 1, 3, 3],\n",
        "]\n",
        "\n",
        "maior7 = 0\n",
        "\n",
        "for i, item in enumerate(notas):\n",
        "  media = sum(item) / len(item)\n",
        "  print(f\"O aluno {alunos[i]} teve a média de {media} pontos\")\n",
        "  if media > 7:\n",
        "    maior7 += 1\n",
        "\n",
        "print(f\"{maior7} alunos tiveram a nota maior que 7 pontos.\")"
      ]
    },
    {
      "cell_type": "markdown",
      "id": "c3068a53",
      "metadata": {
        "id": "c3068a53"
      },
      "source": [
        "#### 3. Foram anotadas as idades e salários de 30 funcionários. Faça um programa que determine quantos funcionários com mais de 25 anos possuem salário inferior à média de todos os salários."
      ]
    },
    {
      "cell_type": "code",
      "execution_count": null,
      "id": "0308566d",
      "metadata": {
        "scrolled": true,
        "id": "0308566d",
        "colab": {
          "base_uri": "https://localhost:8080/"
        },
        "outputId": "f1816027-734f-4fd9-a2b1-9e66fdb10220"
      },
      "outputs": [
        {
          "output_type": "stream",
          "name": "stdout",
          "text": [
            "São 12 funcionários que possuem mais de 25 anos e um salário inferior a média.\n"
          ]
        }
      ],
      "source": [
        "idades = [35,32,50,33,48,50,33,48,22,49,35,38,20,47,49,48,34,21,48,44,48,30,25,42,42,23,25,23,38,35]\n",
        "salarios = [3739,2219,3554,3978,4014,3270,4792,3879,2981,2384,4826,2460,3680,4318,1872,1770,4640,3929,3295,1729,3965,4267,4007,1916,2987,2943,3852,4543,2055,1730]\n",
        "\n",
        "mediaSal = sum(salarios) / len(salarios)\n",
        "quant = 0\n",
        "for i, item in enumerate(idades):\n",
        "  if item > 25:\n",
        "    if salarios[i] < mediaSal:\n",
        "      quant += 1\n",
        "\n",
        "print(f\"São {quant} funcionários que possuem mais de 25 anos e um salário inferior a média.\")"
      ]
    },
    {
      "cell_type": "markdown",
      "id": "1611081b",
      "metadata": {
        "id": "1611081b"
      },
      "source": [
        "#### 4.Em quais meses a média de temperatura foi maior do que a média nacional?"
      ]
    },
    {
      "cell_type": "code",
      "execution_count": null,
      "id": "62f72e2b",
      "metadata": {
        "id": "62f72e2b",
        "colab": {
          "base_uri": "https://localhost:8080/"
        },
        "outputId": "62a7635a-5d17-4105-f123-352ad8408541"
      },
      "outputs": [
        {
          "output_type": "stream",
          "name": "stdout",
          "text": [
            "Em Janeiro a temperatura foi maior do que a média nacional.\n",
            "Em Fevereiro a temperatura foi maior do que a média nacional.\n",
            "Em Março a temperatura foi maior do que a média nacional.\n",
            "Em Abril a temperatura foi maior do que a média nacional.\n",
            "Em Junho a temperatura foi maior do que a média nacional.\n",
            "Em Novembro a temperatura foi maior do que a média nacional.\n",
            "Em Dezembro a temperatura foi maior do que a média nacional.\n"
          ]
        }
      ],
      "source": [
        "meses = [\n",
        "    'Janeiro',\n",
        "    'Fevereiro',\n",
        "    'Março',\n",
        "    'Abril',\n",
        "    'Maio',\n",
        "    'Junho',\n",
        "    'Julho',\n",
        "    'Agosto',\n",
        "    'Setembro',\n",
        "    'Outubro',\n",
        "    'Novembro',\n",
        "    'Dezembro'\n",
        "]\n",
        "\n",
        "temperaturas = [30, 29, 28, 28, 25, 26, 20, 21, 19, 25, 27, 32]\n",
        "\n",
        "mediaNacional = sum(temperaturas) / len(temperaturas)\n",
        "\n",
        "for i, item in enumerate(temperaturas):\n",
        "  if item > mediaNacional:\n",
        "    print(f\"Em {meses[i]} a temperatura foi maior do que a média nacional.\")\n"
      ]
    },
    {
      "cell_type": "markdown",
      "id": "8946af31",
      "metadata": {
        "id": "8946af31"
      },
      "source": [
        "#### 5. As Organizações Tabajara resolveram dar um abono aos seus colaboradores em reconhecimento ao bom resultado alcançado durante o ano que passou. Para isto contratou você para desenvolver a aplicação que servirá como uma projeção de quanto será gasto com o pagamento deste abono.\n",
        "<pre>Após reuniões envolvendo a diretoria executiva, a diretoria financeira e os representantes do sindicato laboral, chegou-se a seguinte forma de cálculo:\n",
        ". Cada funcionário receberá o equivalente a 20% do seu salário bruto de dezembro;\n",
        ". O piso do abono será de 100 reais, isto é, aqueles funcionários cujo salário for muito baixo, recebem este valor mínimo;\n",
        "\n",
        "Neste momento, não se deve ter nenhuma preocupação com colaboradores com tempo menor de casa, descontos, impostos ou outras particularidades. O programa deverá calcular o valor do abono concedido a cada colaborador, de acordo com a regra definida acima. Ao final, o programa deverá apresentar:</pre>\n",
        "<pre>\n",
        "O salário de cada funcionário, juntamente com o valor do abono;\n",
        "O número total de funcionário processados;\n",
        "O valor total a ser gasto com o pagamento do abono;\n",
        "O número de funcionário que receberá o valor mínimo de 100 reais;\n",
        "O maior valor pago como abono; A tela abaixo é um exemplo de execução do programa, apenas para fins ilustrativos.\n",
        "<pre>\n",
        "Projeção de Gastos com Abono\n",
        "============================\n",
        "\n",
        "Salário: 1000\n",
        "Salário: 300\n",
        "Salário: 500\n",
        "Salário: 100\n",
        "Salário: 4500\n",
        "Salário: 0\n",
        "\n",
        "Salário    - Abono     \n",
        "R$ 1000.00 - R$  200.00\n",
        "R$  300.00 - R$  100.00\n",
        "R$  500.00 - R$  100.00\n",
        "R$  100.00 - R$  100.00\n",
        "R$ 4500.00 - R$  900.00\n",
        "\n",
        "Foram processados 5 colaboradores\n",
        "Total gasto com abonos: R$ 1400.00\n",
        "Valor mínimo pago a 3 colaboradores\n",
        "Maior valor de abono pago: R$ 900.00"
      ]
    },
    {
      "cell_type": "code",
      "execution_count": null,
      "id": "fadbcfb2",
      "metadata": {
        "id": "fadbcfb2",
        "colab": {
          "base_uri": "https://localhost:8080/"
        },
        "outputId": "b3727913-46c2-4f87-b151-0a80810ca070"
      },
      "outputs": [
        {
          "output_type": "stream",
          "name": "stdout",
          "text": [
            "R$1000.00 --- R$200.00\n",
            "R$300.00 --- R$100.00\n",
            "R$500.00 --- R$100.00\n",
            "R$200.00 --- R$100.00\n",
            "R$1500.00 --- R$300.00\n",
            "R$3000.00 --- R$600.00\n",
            "R$3400.00 --- R$680.00\n",
            "R$5000.00 --- R$1000.00\n",
            "R$7000.00 --- R$1400.00\n",
            "R$2000.00 --- R$400.00\n",
            "R$600.00 --- R$120.00\n",
            "R$800.00 --- R$160.00\n",
            "R$250.00 --- R$100.00\n",
            "R$1500.00 --- R$300.00\n",
            "R$20000.00 --- R$4000.00\n",
            "Foram processados 15 colaboradores\n",
            "Total gasto com abonos: R$9560.00\n",
            "Valor mínimo pago a 3 colaboradores\n",
            "Maior valor de abono pago: R$4000.00\n"
          ]
        }
      ],
      "source": [
        "lista_salarios = [1000, 300, 500, 200, 1500, 3000, 3400, 5000, 7000, 2000, 600, 800, 250, 1500, 20000]\n",
        "abonos = []\n",
        "\n",
        "colaboradores = 0\n",
        "totalAbonos = 0\n",
        "valMinimo = 0\n",
        "maiorVal = 0\n",
        "\n",
        "for item in lista_salarios:\n",
        "  if 20/100 * item < 100:\n",
        "    abonos.append(100)\n",
        "    valMinimo += 1\n",
        "    totalAbonos += 100\n",
        "  else:\n",
        "    abonos.append(20/100 * item)\n",
        "    totalAbonos += 20/100 * item\n",
        "    if 20/100 * item > maiorVal:\n",
        "      maiorVal = 20/100 * item\n",
        "  colaboradores += 1\n",
        "\n",
        "for i in range(len(abonos)):\n",
        "  print(\"R${:.2f} --- R${:.2f}\".format(lista_salarios[i], abonos[i]))\n",
        "\n",
        "\n",
        "print(f\"Foram processados {colaboradores} colaboradores\")\n",
        "print(\"Total gasto com abonos: R${:.2f}\".format(totalAbonos))\n",
        "print(f\"Valor mínimo pago a {valMinimo} colaboradores\")\n",
        "print(\"Maior valor de abono pago: R${:.2f}\".format(maiorVal))"
      ]
    },
    {
      "cell_type": "markdown",
      "id": "382b0981",
      "metadata": {
        "id": "382b0981"
      },
      "source": [
        "#### 6. Faça um programa que carregue uma lista com os modelos de cinco carros (exemplo de modelos: FUSCA, GOL, VECTRA etc). Carregue uma outra lista com o consumo desses carros, isto é, quantos quilômetros cada um desses carros faz com um litro de combustível. Calcule e mostre:\n",
        "<pre>\n",
        "a. O modelo do carro mais econômico;\n",
        "b. Quantos litros de combustível cada um dos carros cadastrados consome para percorrer uma distância de 1000 quilômetros e quanto isto custará, considerando um que a gasolina custe R$ 2,25 o litro. Abaixo segue uma tela de exemplo. O disposição das informações deve ser o mais próxima possível ao exemplo. Os dados são fictícios e podem mudar a cada execução do programa.</pre>\n",
        "```\n",
        "Comparativo de Consumo de Combustível\n",
        "\n",
        "Veículo 1\n",
        "Nome: fusca\n",
        "Km por litro: 7\n",
        "Veículo 2\n",
        "Nome: gol\n",
        "Km por litro: 10\n",
        "Veículo 3\n",
        "Nome: uno\n",
        "Km por litro: 12.5\n",
        "Veículo 4\n",
        "Nome: Vectra\n",
        "Km por litro: 9\n",
        "Veículo 5\n",
        "Nome: Peugeout\n",
        "Km por litro: 14.5\n",
        "\n",
        "Relatório Final\n",
        " 1 - fusca           -    7.0 -  142.9 litros - R$ 321.43\n",
        " 2 - gol             -   10.0 -  100.0 litros - R$ 225.00\n",
        " 3 - uno             -   12.5 -   80.0 litros - R$ 180.00\n",
        " 4 - vectra          -    9.0 -  111.1 litros - R$ 250.00\n",
        " 5 - peugeout        -   14.5 -   69.0 litros - R$ 155.17\n",
        "O menor consumo é do peugeout.\n",
        "```"
      ]
    },
    {
      "cell_type": "code",
      "execution_count": null,
      "id": "6b6c8b06",
      "metadata": {
        "id": "6b6c8b06",
        "colab": {
          "base_uri": "https://localhost:8080/"
        },
        "outputId": "770faf79-7e01-4f9c-e9c7-b7e284abfb5c"
      },
      "outputs": [
        {
          "output_type": "stream",
          "name": "stdout",
          "text": [
            "Comparativo de Consumo de Combustível\n",
            "Veículo 1\n",
            "Nome: fusca\n",
            "Km por litro: 7\n",
            "Veículo 2\n",
            "Nome:  gol\n",
            "Km por litro: 10\n",
            "Veículo 3\n",
            "Nome: uno\n",
            "Km por litro: 12.5\n",
            "Veículo 4\n",
            "Nome: vectra\n",
            "Km por litro: 9\n",
            "Veículo 5\n",
            "Nome: peugeot\n",
            "Km por litro: 14.5\n",
            "\n",
            "\n",
            "Relatório Final\n",
            "1 - fusca    -   7  -  142.86 litros  -  R$321.43\n",
            "2 -  gol    -   10  -  100.00 litros  -  R$225.00\n",
            "3 - uno    -   12.5  -  80.00 litros  -  R$180.00\n",
            "4 - vectra    -   9  -  111.11 litros  -  R$250.00\n",
            "5 - peugeot    -   14.5  -  68.97 litros  -  R$155.17\n",
            "\n",
            "\n",
            "O menor consumo é do fusca\n"
          ]
        }
      ],
      "source": [
        "print('Comparativo de Consumo de Combustível')\n",
        "veiculos = ['fusca',' gol', 'uno', 'vectra', 'peugeot']\n",
        "autonomias = [7, 10, 12.5, 9, 14.5]\n",
        "\n",
        "for i in range(len(veiculos)):\n",
        "  print(f\"Veículo {i + 1}\")\n",
        "  print(f\"Nome: {veiculos[i]}\")\n",
        "  print(f\"Km por litro: {autonomias[i]}\")\n",
        "\n",
        "print(\"\\n\")\n",
        "\n",
        "#a. O modelo do carro mais econômico;\n",
        "#b. Quantos litros de combustível cada um dos carros cadastrados consome para percorrer uma distância de 1000 quilômetros e quanto isto custará,\n",
        "# considerando um que a gasolina custe R$ 2,25 o litro. Abaixo segue uma tela de exemplo. O disposição das informações deve ser o mais próxima\n",
        "# possível ao exemplo. Os dados são fictícios e podem mudar a cada execução do programa.\n",
        "\n",
        "print('Relatório Final')\n",
        "\n",
        "maisEcon = 0\n",
        "econ = 0\n",
        "\n",
        "for i, item in enumerate(autonomias):\n",
        "  if item < maisEcon:\n",
        "    maisEcon = item\n",
        "    econ = i\n",
        "  print(\"{} - {}    -   {}  -  {:.2f} litros  -  R${:.2f}\".format(i+1, veiculos[i], item, 1000/item, 1000/item * 2.25))\n",
        "\n",
        "print(\"\\n\")\n",
        "print(f\"O menor consumo é do {veiculos[econ]}\")"
      ]
    },
    {
      "cell_type": "markdown",
      "id": "1d0260a3",
      "metadata": {
        "id": "1d0260a3"
      },
      "source": [
        "#### 7. Uma empresa paga seus vendedores com base em comissões. O vendedor recebe \\\\$200 por semana mais 9 por cento de suas vendas brutas daquela semana. Por exemplo, um vendedor que teve vendas brutas de \\\\$3000 em uma semana recebe \\\\$200 mais 9 por cento de \\\\$3000, ou seja, um total de \\\\$470. Escreva um programa (usando um array de contadores) que determine quantos vendedores receberam salários nos seguintes intervalos de valores:\n",
        "<pre>\n",
        "$200 - $299\n",
        "$300 - $399\n",
        "$400 - $499\n",
        "$500 - $599\n",
        "$600 - $699\n",
        "$700 - $799\n",
        "$800 - $899\n",
        "$900 - $999\n",
        "$1000 em diante\n",
        "</pre>\n",
        "\n",
        "Existem várias formas de fazer. Faça da forma que parecer mais intuitiva para você.\n"
      ]
    },
    {
      "cell_type": "code",
      "execution_count": null,
      "id": "fc6eaae4",
      "metadata": {
        "id": "fc6eaae4",
        "colab": {
          "base_uri": "https://localhost:8080/"
        },
        "outputId": "a7b20dd9-bb6d-4971-ac85-52edc86dd319"
      },
      "outputs": [
        {
          "output_type": "stream",
          "name": "stdout",
          "text": [
            "[290.0]\n",
            "[380.0]\n",
            "[470.0]\n",
            "[560.0, 524.0]\n",
            "[650.0, 695.0, 605.0]\n",
            "[740.0]\n",
            "[]\n",
            "[]\n",
            "[]\n"
          ]
        }
      ],
      "source": [
        "vendas = [1000, 2000, 3000, 4000, 5000, 6000, 5500, 4500, 3600]\n",
        "\n",
        "inter1 = []\n",
        "inter2 = []\n",
        "inter3 = []\n",
        "inter4 = []\n",
        "inter5 = []\n",
        "inter6 = []\n",
        "inter7 = []\n",
        "inter8 = []\n",
        "inter9 = []\n",
        "\n",
        "for item in vendas:\n",
        "  comissao = 200 + 9/100 * item\n",
        "  if comissao < 299:\n",
        "    inter1.append(comissao)\n",
        "  elif comissao < 399:\n",
        "    inter2.append(comissao)\n",
        "  elif comissao < 499:\n",
        "    inter3.append(comissao)\n",
        "  elif comissao < 599:\n",
        "    inter4.append(comissao)\n",
        "  elif comissao < 699:\n",
        "    inter5.append(comissao)\n",
        "  elif comissao < 799:\n",
        "    inter6.append(comissao)\n",
        "  elif comissao < 899:\n",
        "    inter7.append(comissao)\n",
        "  elif comissao < 999:\n",
        "    inter8.append(comissao)\n",
        "  else:\n",
        "    inter9.append(comissao)\n",
        "\n",
        "print(inter1)\n",
        "print(inter2)\n",
        "print(inter3)\n",
        "print(inter4)\n",
        "print(inter5)\n",
        "print(inter6)\n",
        "print(inter7)\n",
        "print(inter8)\n",
        "print(inter9)"
      ]
    }
  ],
  "metadata": {
    "kernelspec": {
      "display_name": "Python 3 (ipykernel)",
      "language": "python",
      "name": "python3"
    },
    "language_info": {
      "codemirror_mode": {
        "name": "ipython",
        "version": 3
      },
      "file_extension": ".py",
      "mimetype": "text/x-python",
      "name": "python",
      "nbconvert_exporter": "python",
      "pygments_lexer": "ipython3",
      "version": "3.9.7"
    },
    "colab": {
      "provenance": [],
      "include_colab_link": true
    }
  },
  "nbformat": 4,
  "nbformat_minor": 5
}