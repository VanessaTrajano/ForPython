{
 "cells": [
  {
   "cell_type": "markdown",
   "metadata": {},
   "source": [
    "# Exercícios\n",
    "\n",
    "## 1. Criando um Registro de Hóspedes\n",
    "\n",
    "Digamos que você está criando o sistema para registrar a chegada de hóspedes em um hotel. No hotel, os hóspedes podem ter quartos com 1, 2, 3 e 4 pessoas. Seu sistema deve conseguir:\n",
    "\n",
    "1. Identificar quantas pessoas o hóspede que acabou de chegar vai ter no quarto (perguntando por meio de input)\n",
    "2. De acordo com a quantidade de pessoas do hóspede, ele deve fazer um for para perguntar o cpf e o nome de cada pessoa, a fim de registrá-la no quarto (2 inputs para cada pessoa, 1 para o cpf e outro para o nome)\n",
    "3. O seu programa então deve gerar uma lista com todas as pessoas que ficarão no quarto em que cada item dessa lista é o nome da pessoa e o cpf da pessoa, assim:"
   ]
  },
  {
   "cell_type": "raw",
   "metadata": {},
   "source": [
    "quarto = [\n",
    "    ['João', 'cpf:00000000000'],\n",
    "    ['Julia', 'cpf:11111111111'],\n",
    "    ['Marcus', 'cpf:22222222222'],\n",
    "    ['Maria', 'cpf:33333333333'],\n",
    "]"
   ]
  },
  {
   "cell_type": "markdown",
   "metadata": {},
   "source": [
    "- Para simplificar, não vamos nos preocupar com possibilidades de \"tentar colocar mais de 1 hóspede, digitar o cpf errado, etc. Nosso objetivo é treinar a criação de uma rotina de cadastro"
   ]
  },
  {
   "cell_type": "code",
   "execution_count": 12,
   "metadata": {},
   "outputs": [
    {
     "name": "stdout",
     "output_type": "stream",
     "text": [
      "Quantas pessoas serão no quarto? 2\n",
      "Digite o nome da 1° pessoa: lara\n",
      "Digite o cpf de lara: 1111111111\n",
      "Digite o nome da 2° pessoa: julia\n",
      "Digite o cpf de julia: 9999999999\n",
      "[['lara', 'cpf: 1111111111'], ['julia', 'cpf: 9999999999']]\n"
     ]
    }
   ],
   "source": [
    "pessoas = int(input(\"Quantas pessoas serão no quarto? \"))\n",
    "quarto = []\n",
    "\n",
    "for i in range(pessoas):\n",
    "    nome = input(f\"Digite o nome da {i + 1}° pessoa: \")\n",
    "    cpf = input(f\"Digite o cpf de {nome}: \")\n",
    "    \n",
    "    quarto.append([nome, \"cpf: {}\".format(cpf)])\n",
    "\n",
    "print(quarto)"
   ]
  },
  {
   "cell_type": "markdown",
   "metadata": {},
   "source": [
    "## 2. Análise de Vendas\n",
    "\n",
    "Nesse exercício vamos fazer uma \"análise simples\" de atingimento de Meta.\n",
    "\n",
    "Temos uma lista com os vendedores e os valores de vendas e queremos identificar (printar) quais os vendedores que bateram a meta e qual foi o valor que eles venderam."
   ]
  },
  {
   "cell_type": "code",
   "execution_count": 2,
   "metadata": {},
   "outputs": [
    {
     "name": "stdout",
     "output_type": "stream",
     "text": [
      "João bateu a meta de vendas, vendendo 15000 produtos\n",
      "Julia bateu a meta de vendas, vendendo 27000 produtos\n",
      "Ana bateu a meta de vendas, vendendo 10300 produtos\n"
     ]
    }
   ],
   "source": [
    "meta = 10000\n",
    "vendas = [\n",
    "    ['João', 15000],\n",
    "    ['Julia', 27000],\n",
    "    ['Marcus', 9900],\n",
    "    ['Maria', 3750],\n",
    "    ['Ana', 10300],\n",
    "    ['Alon', 7870],\n",
    "]\n",
    "for venda in vendas:\n",
    "    if venda[1] > meta:\n",
    "        print(f\"{venda[0]} bateu a meta de vendas, vendendo {venda[1]} reais em produtos\")"
   ]
  },
  {
   "cell_type": "markdown",
   "metadata": {},
   "source": [
    "## 3. Comparação com Ano Anterior\n",
    "\n",
    "Digamos que você está analisando as vendas de produtos de um ecommerce e quer identificar quais produtos tiveram no ano de 2020 mais vendas do que no ano de 2019, para reportar isso para a diretoria.\n",
    "\n",
    "Sua resposta pode ser um print de cada produto, qual foi a venda de 2019, a venda de 2020 e o % de crescimento de 2020 para 2019.\n",
    "\n",
    "Lembrando, para calcular o % de crescimento de um produto de um ano para o outro, podemos fazer: (vendas_produto2020/vendas_produto2019 - 1)\n",
    "\n",
    "Dica: lembre do enumerate, ele pode facilitar seu \"for\""
   ]
  },
  {
   "cell_type": "code",
   "execution_count": 9,
   "metadata": {},
   "outputs": [
    {
     "name": "stdout",
     "output_type": "stream",
     "text": [
      "O produto iphone foi mais vendido em 2020 (951642 vendas) do que em 2019 (558147 vendas).\n",
      "Ou seja, iphone foi 70.50% mais vendido.\n",
      "\n",
      "\n",
      "O produto tv foi mais vendido em 2020 (787604 vendas) do que em 2019 (405252 vendas).\n",
      "Ou seja, tv foi 94.35% mais vendido.\n",
      "\n",
      "\n",
      "O produto máquina de café foi mais vendido em 2020 (867660 vendas) do que em 2019 (718654 vendas).\n",
      "Ou seja, máquina de café foi 20.73% mais vendido.\n",
      "\n",
      "\n",
      "O produto notebook dell foi mais vendido em 2020 (694913 vendas) do que em 2019 (422760 vendas).\n",
      "Ou seja, notebook dell foi 64.38% mais vendido.\n",
      "\n",
      "\n",
      "O produto notebook hp foi mais vendido em 2020 (539704 vendas) do que em 2019 (154753 vendas).\n",
      "Ou seja, notebook hp foi 248.75% mais vendido.\n",
      "\n",
      "\n",
      "O produto microsoft surface foi mais vendido em 2020 (667179 vendas) do que em 2019 (438508 vendas).\n",
      "Ou seja, microsoft surface foi 52.15% mais vendido.\n",
      "\n",
      "\n",
      "O produto webcam foi mais vendido em 2020 (295633 vendas) do que em 2019 (237467 vendas).\n",
      "Ou seja, webcam foi 24.49% mais vendido.\n",
      "\n",
      "\n",
      "O produto caixa de som foi mais vendido em 2020 (725316 vendas) do que em 2019 (489705 vendas).\n",
      "Ou seja, caixa de som foi 48.11% mais vendido.\n",
      "\n",
      "\n",
      "O produto microfone foi mais vendido em 2020 (644622 vendas) do que em 2019 (328311 vendas).\n",
      "Ou seja, microfone foi 96.34% mais vendido.\n",
      "\n",
      "\n",
      "O produto câmera canon foi mais vendido em 2020 (994303 vendas) do que em 2019 (591120 vendas).\n",
      "Ou seja, câmera canon foi 68.21% mais vendido.\n",
      "\n",
      "\n"
     ]
    }
   ],
   "source": [
    "produtos = ['iphone', 'galaxy', 'ipad', 'tv', 'máquina de café', 'kindle', 'geladeira', 'adega', 'notebook dell', 'notebook hp', 'notebook asus', 'microsoft surface', 'webcam', 'caixa de som', 'microfone', 'câmera canon']\n",
    "vendas2019 = [558147,712350,573823,405252,718654,531580,973139,892292,422760,154753,887061,438508,237467,489705,328311,591120]\n",
    "vendas2020 = [951642,244295,26964,787604,867660,78830,710331,646016,694913,539704,324831,667179,295633,725316,644622,994303]\n",
    "\n",
    "for i, item in enumerate(vendas2020):\n",
    "    if item > vendas2019[i]:\n",
    "        print(f\"O produto {produtos[i]} foi mais vendido em 2020 ({item} vendas) do que em 2019 ({vendas2019[i]} vendas).\")\n",
    "        print(\"Ou seja, {} foi {:.2%} mais vendido.\".format(produtos[i], item/vendas2019[i] - 1))\n",
    "        print(\"\\n\")\n"
   ]
  }
 ],
 "metadata": {
  "kernelspec": {
   "display_name": "Python 3 (ipykernel)",
   "language": "python",
   "name": "python3"
  },
  "language_info": {
   "codemirror_mode": {
    "name": "ipython",
    "version": 3
   },
   "file_extension": ".py",
   "mimetype": "text/x-python",
   "name": "python",
   "nbconvert_exporter": "python",
   "pygments_lexer": "ipython3",
   "version": "3.10.9"
  }
 },
 "nbformat": 4,
 "nbformat_minor": 4
}
